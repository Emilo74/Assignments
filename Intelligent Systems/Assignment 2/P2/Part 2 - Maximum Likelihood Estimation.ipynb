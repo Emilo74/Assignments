{
 "cells": [
  {
   "cell_type": "code",
   "execution_count": 10,
   "metadata": {},
   "outputs": [],
   "source": [
    "#Part 2 - Maximum Likelihood Estimation\n",
    "#Gabriela Sewdhan - 813001696\n",
    "#Emilo Gopaul - 816007034\n",
    "\n",
    "import numpy as np\n",
    "import torch as th\n",
    "import torch.nn as nn\n",
    "import torch.optim as optim\n",
    "import matplotlib.pyplot as plt"
   ]
  },
  {
   "cell_type": "code",
   "execution_count": 11,
   "metadata": {},
   "outputs": [],
   "source": [
    "def plot_loss(loss_curve):\n",
    "    plt.plot(list(range(len(loss_curve))), loss_curve)"
   ]
  },
  {
   "cell_type": "code",
   "execution_count": 12,
   "metadata": {},
   "outputs": [],
   "source": [
    "#Loss function using the 2-parameter Weibull distribution\n",
    "def loss_function(dataset, k, lam, eps=0.001):\n",
    "    p1 = th.log(k)\n",
    "    p2 = (k-1) * th.log(dataset)\n",
    "    p3 = (k * th.log(lam))\n",
    "    p4 = ((dataset/lam)**k)\n",
    "    acc = th.mean(p1 + p2 - p3 - p4)\n",
    "    return -acc\n",
    "\n",
    "\n",
    "class Model(nn.Module):\n",
    "    def __init__(self):\n",
    "        super().__init__()\n",
    "        #K lies between 0 and 1\n",
    "        k_prime = np.abs(np.random.uniform(0, 1))\n",
    "        lam_prime = np.random.normal(2)\n",
    "        self.k_prime = nn.Parameter(th.tensor(k_prime))\n",
    "        self.lam_prime = nn.Parameter(th.tensor(lam_prime))\n",
    "\n",
    "    def k(self):\n",
    "        return th.sigmoid(self.k_prime)\n",
    "\n",
    "    def lam(self):\n",
    "        return th.abs(self.lam_prime)\n",
    "\n",
    "    def loss(self, dataset):\n",
    "        return loss_function(dataset, self.k(), self.lam())\n"
   ]
  },
  {
   "cell_type": "code",
   "execution_count": 13,
   "metadata": {},
   "outputs": [],
   "source": [
    "model = Model()\n",
    "lr = 0.1\n",
    "optimiser = optim.SGD(model.parameters(), lr=lr)\n",
    "num_iters = 10000\n",
    "loss_curve = []"
   ]
  },
  {
   "cell_type": "code",
   "execution_count": 14,
   "metadata": {},
   "outputs": [],
   "source": [
    "fp = open('data.npy', 'rb')\n",
    "dataset = np.load(fp)\n",
    "fp.close()\n",
    "dataset = th.tensor(dataset, dtype=th.float32)"
   ]
  },
  {
   "cell_type": "code",
   "execution_count": 15,
   "metadata": {},
   "outputs": [],
   "source": [
    "for i in range(num_iters):\n",
    "    optimiser.zero_grad()\n",
    "    loss_value = model.loss(dataset)\n",
    "    loss_curve.append(loss_value.data.item())\n",
    "    loss_value.backward()\n",
    "    optimiser.step()"
   ]
  },
  {
   "cell_type": "code",
   "execution_count": 16,
   "metadata": {},
   "outputs": [
    {
     "name": "stdout",
     "output_type": "stream",
     "text": [
      "Lambda:  1.2063501\n",
      "K:  0.9577319\n"
     ]
    }
   ],
   "source": [
    "k = model.k().detach().numpy()\n",
    "lam = model.lam().detach().numpy()\n",
    "\n",
    "#Display the values for Lambda and K\n",
    "print(\"Lambda: \", lam)\n",
    "print(\"K: \", k)"
   ]
  },
  {
   "cell_type": "code",
   "execution_count": 17,
   "metadata": {
    "scrolled": true
   },
   "outputs": [
    {
     "data": {
      "image/png": "[encoded data removed]",
      "text/plain": [
       "<Figure size 432x288 with 1 Axes>"
      ]
     },
     "metadata": {
      "needs_background": "light"
     },
     "output_type": "display_data"
    }
   ],
   "source": [
    "#Display Loss Curve\n",
    "plot_loss(loss_curve)"
   ]
  },
  {
   "cell_type": "code",
   "execution_count": 18,
   "metadata": {},
   "outputs": [
    {
     "name": "stderr",
     "output_type": "stream",
     "text": [
      "C:\\Users\\gabie\\Anaconda3\\lib\\site-packages\\ipykernel_launcher.py:7: RuntimeWarning: divide by zero encountered in double_scalars\n",
      "  import sys\n"
     ]
    },
    {
     "data": {
      "text/plain": [
       "[<matplotlib.lines.Line2D at 0x12f833d62c8>]"
      ]
     },
     "execution_count": 18,
     "metadata": {},
     "output_type": "execute_result"
    },
    {
     "data": {
      "image/png": "[encoded data removed]",
      "text/plain": [
       "<Figure size 432x288 with 1 Axes>"
      ]
     },
     "metadata": {
      "needs_background": "light"
     },
     "output_type": "display_data"
    }
   ],
   "source": [
    "#Histogram plotted to check sanity\n",
    "histogram = plt.hist(dataset.numpy(), bins=int(np.max(dataset.numpy())))\n",
    "arr = []\n",
    "#Weibull Distribution equation used\n",
    "for i in range(41):\n",
    "    prob1 = k / lam\n",
    "    prob2 = (i/lam)**(k - 1)\n",
    "    prob3 = np.exp(-(i/lam)**k)\n",
    "    prob = prob1 * prob2 * prob3\n",
    "    arr.append(prob * len(dataset))\n",
    "plt.plot(list(range(41)), arr)"
   ]
  },
  {
   "cell_type": "code",
   "execution_count": null,
   "metadata": {},
   "outputs": [],
   "source": []
  }
 ],
 "metadata": {
  "kernelspec": {
   "display_name": "Python 3",
   "language": "python",
   "name": "python3"
  },
  "language_info": {
   "codemirror_mode": {
    "name": "ipython",
    "version": 3
   },
   "file_extension": ".py",
   "mimetype": "text/x-python",
   "name": "python",
   "nbconvert_exporter": "python",
   "pygments_lexer": "ipython3",
   "version": "3.7.4"
  }
 },
 "nbformat": 4,
 "nbformat_minor": 4
}
