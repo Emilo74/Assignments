{
 "cells": [
  {
   "cell_type": "code",
   "execution_count": 11,
   "metadata": {},
   "outputs": [],
   "source": [
    "#Part 1 - Constrained Optimisation\n",
    "#Gabriela Sewdhan - 813001696\n",
    "#Emilo Gopaul - 816007034"
   ]
  },
  {
   "cell_type": "code",
   "execution_count": 12,
   "metadata": {},
   "outputs": [],
   "source": [
    "import numpy as np \n",
    "import matplotlib.pyplot as plt"
   ]
  },
  {
   "cell_type": "code",
   "execution_count": 13,
   "metadata": {},
   "outputs": [],
   "source": [
    "class Particle(object):\n",
    "    def __init__(self, n, low=-50, high=50):\n",
    "        super().__init__()\n",
    "        self.state = np.random.uniform(low=low, high=high, size=n)\n",
    "        self.best_state = np.copy(self.state)\n",
    "        self.velocity = np.zeros_like(self.state)\n",
    "        self.best_score = -10000000\n",
    "    \n",
    "    def compute_velocity(self, inertia_factor, global_best):\n",
    "        exploitation = np.random.random() * (self.best_state - self.state)\n",
    "        exploration = np.random.random() * (global_best.state - self.state)\n",
    "        inertia = inertia_factor * self.velocity\n",
    "        self.velocity = inertia + exploration + exploitation\n",
    "    \n",
    "    def apply_velocity_update(self):\n",
    "        self.state = self.state + self.velocity\n",
    "        \n",
    "    def compute_fitness(self, fitness_func):\n",
    "        fitness = fitness_func(self.state)\n",
    "        if self.best_score < fitness:\n",
    "            self.best_score = fitness\n",
    "            self.best_state = self.state\n",
    "        return fitness"
   ]
  },
  {
   "cell_type": "code",
   "execution_count": 14,
   "metadata": {},
   "outputs": [],
   "source": [
    "# Rosenbrock function constrained to a disk https://en.wikipedia.org/wiki/Test_functions_for_optimization\n",
    " \n",
    "def fitness(state):\n",
    "    \n",
    "    x = state[0]\n",
    "    y = state[1]\n",
    "    \n",
    "    a = 1. - x\n",
    "    a *= a\n",
    "    \n",
    "    b = y - x*x\n",
    "    b *= b\n",
    "    b = 100.*b\n",
    "    \n",
    "    #Penalty\n",
    "    c = (np.maximum(0, x*x + y*y - 2.))**2\n",
    "    \n",
    "    #Negative, as PSO is used to find the maximum, but we want to find the minimum\n",
    "    return -a - b - c"
   ]
  },
  {
   "cell_type": "code",
   "execution_count": 15,
   "metadata": {},
   "outputs": [],
   "source": [
    "n = 2\n",
    "num_particles = 1000\n",
    "num_iterations = 100\n",
    "inertia_factor = 0.5\n",
    "global_best = np.zeros(n)\n",
    "global_best_fitness = -1000000000"
   ]
  },
  {
   "cell_type": "code",
   "execution_count": 16,
   "metadata": {},
   "outputs": [],
   "source": [
    "particles = [Particle(n) for _ in range(num_particles)]\n",
    "convergence_curve = []"
   ]
  },
  {
   "cell_type": "code",
   "execution_count": 17,
   "metadata": {},
   "outputs": [],
   "source": [
    "for i in range(num_iterations):\n",
    "    for p in particles:\n",
    "        fitness_of_p = p.compute_fitness(fitness)\n",
    "        if fitness_of_p > global_best_fitness:\n",
    "            global_best_fitness = fitness_of_p\n",
    "            global_best = p\n",
    "    for p in particles:\n",
    "        p.compute_velocity(inertia_factor, global_best)\n",
    "    for p in particles:\n",
    "        p.apply_velocity_update()\n",
    "    convergence_curve.append(global_best_fitness)"
   ]
  },
  {
   "cell_type": "code",
   "execution_count": 18,
   "metadata": {},
   "outputs": [
    {
     "name": "stdout",
     "output_type": "stream",
     "text": [
      "Global Best State:  [1. 1.]\n"
     ]
    }
   ],
   "source": [
    " # Print Statements to show the best state and best score\n",
    " print(\"Global Best State: \", global_best.state)"
   ]
  },
  {
   "cell_type": "code",
   "execution_count": 19,
   "metadata": {},
   "outputs": [
    {
     "name": "stdout",
     "output_type": "stream",
     "text": [
      "Global Best Score:  -2.0914201445454895e-21\n"
     ]
    }
   ],
   "source": [
    "#Should be close to zero\n",
    "print(\"Global Best Score: \", global_best.best_score)"
   ]
  },
  {
   "cell_type": "code",
   "execution_count": 20,
   "metadata": {},
   "outputs": [
    {
     "data": {
      "text/plain": [
       "[<matplotlib.lines.Line2D at 0x1d8869f6708>]"
      ]
     },
     "execution_count": 20,
     "metadata": {},
     "output_type": "execute_result"
    },
    {
     "data": {
      "image/png": "[encoded data removed]",
      "text/plain": [
       "<Figure size 432x288 with 1 Axes>"
      ]
     },
     "metadata": {
      "needs_background": "light"
     },
     "output_type": "display_data"
    }
   ],
   "source": [
    "#Plotting the convergence curve\n",
    "plot(list(range(len(convergence_curve))), convergence_curve)"
   ]
  },
  {
   "cell_type": "code",
   "execution_count": null,
   "metadata": {},
   "outputs": [],
   "source": []
  }
 ],
 "metadata": {
  "kernelspec": {
   "display_name": "Python 3",
   "language": "python",
   "name": "python3"
  },
  "language_info": {
   "codemirror_mode": {
    "name": "ipython",
    "version": 3
   },
   "file_extension": ".py",
   "mimetype": "text/x-python",
   "name": "python",
   "nbconvert_exporter": "python",
   "pygments_lexer": "ipython3",
   "version": "3.7.4"
  }
 },
 "nbformat": 4,
 "nbformat_minor": 4
}
