{
 "cells": [
  {
   "cell_type": "code",
   "execution_count": 2,
   "metadata": {},
   "outputs": [],
   "source": [
    "from matplotlib import pyplot as plt\n",
    "import seaborn as sns\n",
    "import numpy as np\n",
    "from sklearn.model_selection import KFold, train_test_split\n",
    "from sklearn.linear_model import LinearRegression, Lasso, Ridge"
   ]
  },
  {
   "cell_type": "code",
   "execution_count": 13,
   "metadata": {},
   "outputs": [],
   "source": [
    "x = np.load('X.npy')\n",
    "y = np.load('y.npy')"
   ]
  },
  {
   "cell_type": "code",
   "execution_count": 14,
   "metadata": {},
   "outputs": [],
   "source": [
    "#x_train, x_test, y_train, y_test = train_test_split(x, y, test_size=0.2, shuffle=True)"
   ]
  },
  {
   "cell_type": "code",
   "execution_count": 15,
   "metadata": {},
   "outputs": [],
   "source": [
    "def mape(actual, predicted):\n",
    "    diff = np.abs(actual - predicted)\n",
    "    factor = diff / actual\n",
    "    return np.mean(factor)"
   ]
  },
  {
   "cell_type": "code",
   "execution_count": 16,
   "metadata": {},
   "outputs": [],
   "source": [
    "k_fold = KFold(n_splits=5)   \n",
    "k_fold.get_n_splits(x)\n",
    "#get_n_splits  returns the number of splitting iterations \n",
    "mape1=[]\n",
    "mape2=[]\n",
    "mape3=[]"
   ]
  },
  {
   "cell_type": "code",
   "execution_count": 25,
   "metadata": {},
   "outputs": [],
   "source": [
    "lr = LinearRegression()\n",
    "lasso = Lasso()\n",
    "ridge = Ridge()"
   ]
  },
  {
   "cell_type": "code",
   "execution_count": 26,
   "metadata": {},
   "outputs": [
    {
     "name": "stdout",
     "output_type": "stream",
     "text": [
      "The mean MAPE for the Linear Regression Classifier is:  37.044\n",
      "The mean MAPE for the Lasso Regression Classifier is:  37.356\n",
      "The mean MAPE for the Ridge Regression Classifier is:  37.094\n"
     ]
    }
   ],
   "source": [
    "for train_idx, test_idx in k_fold.split(x):  #split generates indices to split data into training and test set.\n",
    "    train_X, test_X = x[train_idx], x[test_idx]\n",
    "    train_y, test_y = y[train_idx], y[test_idx]\n",
    "    lr.fit(train_X, train_y)\n",
    "    lasso.fit(train_X, train_y)\n",
    "    ridge.fit(train_X, train_y)\n",
    "    predictions1 = lr.predict(test_X)\n",
    "    predictions2 = lasso.predict(test_X)\n",
    "    predictions3 = ridge.predict(test_X)\n",
    "    metric1 = mape(test_y, predictions1)\n",
    "    metric2 = mape(test_y, predictions2)\n",
    "    metric3 = mape(test_y, predictions3)\n",
    "    mape1.append(metric1)\n",
    "    mape2.append(metric2)\n",
    "    mape3.append(metric3)\n",
    "    \n",
    "print(\"The mean MAPE for the Linear Regression Classifier is: \", round((np.mean(mape1) * 100),3))\n",
    "print(\"The mean MAPE for the Lasso Regression Classifier is: \", round((np.mean(mape2) * 100),3))\n",
    "print(\"The mean MAPE for the Ridge Regression Classifier is: \", round((np.mean(mape3) * 100),3))"
   ]
  },
  {
   "cell_type": "code",
   "execution_count": null,
   "metadata": {},
   "outputs": [],
   "source": []
  }
 ],
 "metadata": {
  "kernelspec": {
   "display_name": "Python 3",
   "language": "python",
   "name": "python3"
  },
  "language_info": {
   "codemirror_mode": {
    "name": "ipython",
    "version": 3
   },
   "file_extension": ".py",
   "mimetype": "text/x-python",
   "name": "python",
   "nbconvert_exporter": "python",
   "pygments_lexer": "ipython3",
   "version": "3.7.3"
  }
 },
 "nbformat": 4,
 "nbformat_minor": 2
}
