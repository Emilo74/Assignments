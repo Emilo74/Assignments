{
 "cells": [
  {
   "cell_type": "markdown",
   "metadata": {},
   "source": [
    "# Emilo Gopaul\n",
    "## 816007034\n",
    "### COMP 3610 A2"
   ]
  },
  {
   "cell_type": "code",
   "execution_count": 1,
   "metadata": {},
   "outputs": [],
   "source": [
    "import pyspark\n",
    "import findspark\n",
    "findspark.init()\n",
    "from pyspark.sql import SparkSession\n",
    "from pyspark.sql import Row\n",
    "from pyspark.sql.types import *\n",
    "from pyspark.sql.functions import *\n",
    "from pyspark.ml.linalg import DenseVector\n",
    "from pyspark.ml.feature import StandardScaler\n",
    "from operator import add\n",
    "from itertools import groupby"
   ]
  },
  {
   "cell_type": "markdown",
   "metadata": {},
   "source": [
    "# Part A."
   ]
  },
  {
   "cell_type": "markdown",
   "metadata": {},
   "source": [
    "### Question 1."
   ]
  },
  {
   "cell_type": "code",
   "execution_count": 2,
   "metadata": {},
   "outputs": [
    {
     "name": "stdout",
     "output_type": "stream",
     "text": [
      "['the', 'quick', 'brown', 'fox', 'jumps', 'over', 'the', 'lazy', 'dog', 'and', 'the', 'fox', 'was', 'very', 'happy']\n"
     ]
    }
   ],
   "source": [
    "sentence = \"The quick brown fox jumps over the lazy dog and the fox was very happy\"\n",
    "sentence1 = sentence.lower().split()\n",
    "sentence2 = sentence.lower().replace(\" \", \"\")\n",
    "\n",
    "print(sentence1)\n",
    "#print(sentence2)"
   ]
  },
  {
   "cell_type": "code",
   "execution_count": 3,
   "metadata": {},
   "outputs": [
    {
     "name": "stdout",
     "output_type": "stream",
     "text": [
      "[('t', 1), ('h', 1), ('e', 1), ('q', 1), ('u', 1), ('i', 1), ('c', 1), ('k', 1), ('b', 1), ('r', 1), ('o', 1), ('w', 1), ('n', 1), ('f', 1), ('o', 1), ('x', 1), ('j', 1), ('u', 1), ('m', 1), ('p', 1), ('s', 1), ('o', 1), ('v', 1), ('e', 1), ('r', 1), ('t', 1), ('h', 1), ('e', 1), ('l', 1), ('a', 1), ('z', 1), ('y', 1), ('d', 1), ('o', 1), ('g', 1), ('a', 1), ('n', 1), ('d', 1), ('t', 1), ('h', 1), ('e', 1), ('f', 1), ('o', 1), ('x', 1), ('w', 1), ('a', 1), ('s', 1), ('v', 1), ('e', 1), ('r', 1), ('y', 1), ('h', 1), ('a', 1), ('p', 2), ('y', 1)]\n"
     ]
    }
   ],
   "source": [
    "s = []\n",
    "for i in sentence1:\n",
    "    for j in i:\n",
    "        freq = i.count(j)\n",
    "        y = ((j, freq))\n",
    "        if ((y in s) & (freq > 1)):\n",
    "            continue\n",
    "        else:\n",
    "            s.append(y)\n",
    "print(s)\n",
    "        "
   ]
  },
  {
   "cell_type": "markdown",
   "metadata": {},
   "source": [
    "### Question 2."
   ]
  },
  {
   "cell_type": "code",
   "execution_count": 4,
   "metadata": {},
   "outputs": [],
   "source": [
    "sc = pyspark.SparkContext.getOrCreate()"
   ]
  },
  {
   "cell_type": "markdown",
   "metadata": {},
   "source": [
    "### Question 3."
   ]
  },
  {
   "cell_type": "code",
   "execution_count": 5,
   "metadata": {},
   "outputs": [
    {
     "name": "stdout",
     "output_type": "stream",
     "text": [
      "[('t', 1), ('h', 1), ('e', 1), ('q', 1), ('u', 1), ('i', 1), ('c', 1), ('k', 1), ('b', 1), ('r', 1), ('o', 1), ('w', 1), ('n', 1), ('f', 1), ('o', 1), ('x', 1), ('j', 1), ('u', 1), ('m', 1), ('p', 1), ('s', 1), ('o', 1), ('v', 1), ('e', 1), ('r', 1), ('t', 1), ('h', 1), ('e', 1), ('l', 1), ('a', 1), ('z', 1), ('y', 1), ('d', 1), ('o', 1), ('g', 1), ('a', 1), ('n', 1), ('d', 1), ('t', 1), ('h', 1), ('e', 1), ('f', 1), ('o', 1), ('x', 1), ('w', 1), ('a', 1), ('s', 1), ('v', 1), ('e', 1), ('r', 1), ('y', 1), ('h', 1), ('a', 1), ('p', 2), ('y', 1)]\n"
     ]
    }
   ],
   "source": [
    "rdd2 = sc.parallelize(s)\n",
    "print(rdd2.collect())"
   ]
  },
  {
   "cell_type": "markdown",
   "metadata": {},
   "source": [
    "### Question 4."
   ]
  },
  {
   "cell_type": "code",
   "execution_count": 6,
   "metadata": {},
   "outputs": [
    {
     "name": "stdout",
     "output_type": "stream",
     "text": [
      "[('i', 1), ('c', 1), ('b', 1), ('r', 3), ('p', 3), ('s', 2), ('l', 1), ('y', 3), ('g', 1), ('e', 5), ('w', 2), ('x', 2), ('m', 1), ('a', 4), ('z', 1), ('h', 4), ('j', 1), ('d', 2), ('t', 3), ('q', 1), ('u', 2), ('k', 1), ('o', 5), ('n', 2), ('f', 2), ('v', 2)]\n"
     ]
    }
   ],
   "source": [
    "rdd1 = rdd2.reduceByKey(lambda x ,y : x + y)\n",
    "print(rdd1.collect())"
   ]
  },
  {
   "cell_type": "markdown",
   "metadata": {},
   "source": [
    "### Question 5."
   ]
  },
  {
   "cell_type": "code",
   "execution_count": 7,
   "metadata": {},
   "outputs": [
    {
     "data": {
      "text/plain": [
       "[('i', [1]),\n",
       " ('c', [1]),\n",
       " ('b', [1]),\n",
       " ('r', [[[1], [1]], [1]]),\n",
       " ('p', [[1], [2]]),\n",
       " ('s', [[1], [1]]),\n",
       " ('l', [1]),\n",
       " ('y', [[1], [[1], [1]]]),\n",
       " ('g', [1]),\n",
       " ('e', [[[[1], [1]], [1]], [[1], [1]]]),\n",
       " ('w', [[1], [1]]),\n",
       " ('x', [[1], [1]]),\n",
       " ('m', [1]),\n",
       " ('a', [[[1], [1]], [[1], [1]]]),\n",
       " ('z', [1]),\n",
       " ('h', [[[1], [1]], [[1], [1]]]),\n",
       " ('j', [1]),\n",
       " ('d', [[1], [1]]),\n",
       " ('t', [[[1], [1]], [1]]),\n",
       " ('q', [1]),\n",
       " ('u', [[1], [1]]),\n",
       " ('k', [1]),\n",
       " ('o', [[[[1], [[1], [1]]], [1]], [1]]),\n",
       " ('n', [[1], [1]]),\n",
       " ('f', [[1], [1]]),\n",
       " ('v', [[1], [1]])]"
      ]
     },
     "execution_count": 7,
     "metadata": {},
     "output_type": "execute_result"
    }
   ],
   "source": [
    "rdd4 = rdd2.map(lambda n: (n[0], [n[1]]))\n",
    "rdd4 = rdd4.reduceByKey(lambda x,y: ([x,y]))\n",
    "rdd4.collect()"
   ]
  },
  {
   "cell_type": "code",
   "execution_count": 20,
   "metadata": {},
   "outputs": [
    {
     "data": {
      "text/plain": [
       "[('i', [1]),\n",
       " ('c', [1]),\n",
       " ('b', [1]),\n",
       " ('r', (([1], [1]), [1])),\n",
       " ('p', ([1], [2])),\n",
       " ('s', ([1], [1])),\n",
       " ('l', [1]),\n",
       " ('y', ([1], ([1], [1]))),\n",
       " ('g', [1]),\n",
       " ('e', ((([1], [1]), [1]), ([1], [1]))),\n",
       " ('w', ([1], [1])),\n",
       " ('x', ([1], [1])),\n",
       " ('m', [1]),\n",
       " ('a', (([1], [1]), ([1], [1]))),\n",
       " ('z', [1]),\n",
       " ('h', (([1], [1]), ([1], [1]))),\n",
       " ('j', [1]),\n",
       " ('d', ([1], [1])),\n",
       " ('t', (([1], [1]), [1])),\n",
       " ('q', [1]),\n",
       " ('u', ([1], [1])),\n",
       " ('k', [1]),\n",
       " ('o', ((([1], ([1], [1])), [1]), [1])),\n",
       " ('n', ([1], [1])),\n",
       " ('f', ([1], [1])),\n",
       " ('v', ([1], [1]))]"
      ]
     },
     "execution_count": 20,
     "metadata": {},
     "output_type": "execute_result"
    }
   ],
   "source": [
    "rdd41 = rdd2.map(lambda n: (n[0], [n[1]]))\n",
    "rdd41 = rdd41.reduceByKey(lambda x,y: (x,y))\n",
    "rdd41.collect()"
   ]
  },
  {
   "cell_type": "markdown",
   "metadata": {},
   "source": [
    "# Part B."
   ]
  },
  {
   "cell_type": "markdown",
   "metadata": {},
   "source": [
    "### Number 1."
   ]
  },
  {
   "cell_type": "code",
   "execution_count": 8,
   "metadata": {},
   "outputs": [],
   "source": [
    "sc = spark.sparkContext\n",
    "sqlContext = SQLContext(sc)"
   ]
  },
  {
   "cell_type": "markdown",
   "metadata": {},
   "source": [
    "### Number 2."
   ]
  },
  {
   "cell_type": "code",
   "execution_count": 9,
   "metadata": {},
   "outputs": [],
   "source": [
    "spark = SparkSession.builder \\\n",
    "   .master(\"local\") \\\n",
    "   .appName(\"Amazon Reviews\") \\\n",
    "   .config(\"spark.executor.memory\", \"1gb\") \\\n",
    "   .getOrCreate()"
   ]
  },
  {
   "cell_type": "code",
   "execution_count": 10,
   "metadata": {},
   "outputs": [
    {
     "name": "stdout",
     "output_type": "stream",
     "text": [
      "[['0', 'AVpe7AsMilAPnD_xQ78G', 'Kindle Paperwhite', 'Cristina M'], ['1', 'AVpe7AsMilAPnD_xQ78G', 'Kindle Paperwhite', 'Ricky'], ['2', 'AVpe7AsMilAPnD_xQ78G', 'Kindle Paperwhite', 'Tedd Gardiner'], ['3', 'AVpe7AsMilAPnD_xQ78G', 'Kindle Paperwhite', 'Dougal'], ['4', 'AVpe7AsMilAPnD_xQ78G', 'Kindle Paperwhite', 'Miljan David Tanic']]\n"
     ]
    }
   ],
   "source": [
    "rdd = sc.textFile('amazon_reviews.csv')\n",
    "header = rdd.first()\n",
    "#rdd = rdd.map(lambda line: line.split(\",\"))\n",
    "rdd = rdd.filter(lambda line: line != header)\n",
    "\n",
    "rdd = rdd.map(lambda line: line.split(\",\"))\n",
    "\n",
    "print(rdd.take(5))"
   ]
  },
  {
   "cell_type": "markdown",
   "metadata": {},
   "source": [
    "### Question 3."
   ]
  },
  {
   "cell_type": "code",
   "execution_count": 11,
   "metadata": {},
   "outputs": [],
   "source": [
    "#df = rdd.map(lambda line: Row(number = line[0]).toDF(header.split(\",\"))\n",
    "\n",
    "df = rdd.map(lambda line: Row(number=line[0], \n",
    "                              id=line[1], \n",
    "                              name=line[2],\n",
    "                              username=line[3])).toDF()"
   ]
  },
  {
   "cell_type": "code",
   "execution_count": 12,
   "metadata": {},
   "outputs": [
    {
     "name": "stdout",
     "output_type": "stream",
     "text": [
      "+--------------------+-----------------+------+--------------------+\n",
      "|                  id|             name|number|            username|\n",
      "+--------------------+-----------------+------+--------------------+\n",
      "|AVpe7AsMilAPnD_xQ78G|Kindle Paperwhite|     0|          Cristina M|\n",
      "|AVpe7AsMilAPnD_xQ78G|Kindle Paperwhite|     1|               Ricky|\n",
      "|AVpe7AsMilAPnD_xQ78G|Kindle Paperwhite|     2|       Tedd Gardiner|\n",
      "|AVpe7AsMilAPnD_xQ78G|Kindle Paperwhite|     3|              Dougal|\n",
      "|AVpe7AsMilAPnD_xQ78G|Kindle Paperwhite|     4|  Miljan David Tanic|\n",
      "|AVpe7AsMilAPnD_xQ78G|Kindle Paperwhite|     5|          Kelvin Law|\n",
      "|AVpe7AsMilAPnD_xQ78G|Kindle Paperwhite|     6|               Ricky|\n",
      "|AVpe7AsMilAPnD_xQ78G|Kindle Paperwhite|     7|             Bandler|\n",
      "|AVpe7AsMilAPnD_xQ78G|Kindle Paperwhite|     8|          Cristina M|\n",
      "|AVpe7AsMilAPnD_xQ78G|Kindle Paperwhite|     9|       Tedd Gardiner|\n",
      "|AVpe7AsMilAPnD_xQ78G|Kindle Paperwhite|    10|     Miguel Martinez|\n",
      "|AVpe7AsMilAPnD_xQ78G|Kindle Paperwhite|    11|   Magnus Brattemark|\n",
      "|AVpe7AsMilAPnD_xQ78G|Kindle Paperwhite|    12|       Tedd Gardiner|\n",
      "|AVpe7AsMilAPnD_xQ78G|Kindle Paperwhite|    13|  Janet Matthews Jan|\n",
      "|AVpe7AsMilAPnD_xQ78G|Kindle Paperwhite|    14|John Kat's the br...|\n",
      "|AVpe7AsMilAPnD_xQ78G|Kindle Paperwhite|    15|              samira|\n",
      "|AVpe7AsMilAPnD_xQ78G|Kindle Paperwhite|    16|        Louis simard|\n",
      "|AVpe7AsMilAPnD_xQ78G|Kindle Paperwhite|    17|              JanetC|\n",
      "|AVpe7AsMilAPnD_xQ78G|Kindle Paperwhite|    18|            Shepherd|\n",
      "|AVpe7AsMilAPnD_xQ78G|Kindle Paperwhite|    19|              Brenda|\n",
      "+--------------------+-----------------+------+--------------------+\n",
      "only showing top 20 rows\n",
      "\n"
     ]
    }
   ],
   "source": [
    "df.show()"
   ]
  },
  {
   "cell_type": "code",
   "execution_count": 13,
   "metadata": {},
   "outputs": [],
   "source": [
    "df1 = df.drop('id','number')"
   ]
  },
  {
   "cell_type": "code",
   "execution_count": 14,
   "metadata": {},
   "outputs": [
    {
     "name": "stdout",
     "output_type": "stream",
     "text": [
      "+-----------------+--------------------+\n",
      "|             name|            username|\n",
      "+-----------------+--------------------+\n",
      "|Kindle Paperwhite|          Cristina M|\n",
      "|Kindle Paperwhite|               Ricky|\n",
      "|Kindle Paperwhite|       Tedd Gardiner|\n",
      "|Kindle Paperwhite|              Dougal|\n",
      "|Kindle Paperwhite|  Miljan David Tanic|\n",
      "|Kindle Paperwhite|          Kelvin Law|\n",
      "|Kindle Paperwhite|               Ricky|\n",
      "|Kindle Paperwhite|             Bandler|\n",
      "|Kindle Paperwhite|          Cristina M|\n",
      "|Kindle Paperwhite|       Tedd Gardiner|\n",
      "|Kindle Paperwhite|     Miguel Martinez|\n",
      "|Kindle Paperwhite|   Magnus Brattemark|\n",
      "|Kindle Paperwhite|       Tedd Gardiner|\n",
      "|Kindle Paperwhite|  Janet Matthews Jan|\n",
      "|Kindle Paperwhite|John Kat's the br...|\n",
      "|Kindle Paperwhite|              samira|\n",
      "|Kindle Paperwhite|        Louis simard|\n",
      "|Kindle Paperwhite|              JanetC|\n",
      "|Kindle Paperwhite|            Shepherd|\n",
      "|Kindle Paperwhite|              Brenda|\n",
      "+-----------------+--------------------+\n",
      "only showing top 20 rows\n",
      "\n"
     ]
    }
   ],
   "source": [
    "df1.show()"
   ]
  },
  {
   "cell_type": "markdown",
   "metadata": {},
   "source": [
    "### Question 4."
   ]
  },
  {
   "cell_type": "code",
   "execution_count": 15,
   "metadata": {},
   "outputs": [
    {
     "name": "stdout",
     "output_type": "stream",
     "text": [
      "+--------------------+-----+\n",
      "|                name|count|\n",
      "+--------------------+-----+\n",
      "|Amazon Tap - Alex...|  542|\n",
      "|      Amazon Fire TV|  166|\n",
      "|Amazon Premium He...|  133|\n",
      "|    Fire HD 6 Tablet|   87|\n",
      "|\"Kindle Fire HDX ...|   53|\n",
      "|\"Kindle Fire HDX ...|   43|\n",
      "|\"Kindle Fire HD 7\"\"\"|   41|\n",
      "|   Kindle Paperwhite|   39|\n",
      "|Certified Refurbi...|   38|\n",
      "|     Kindle Keyboard|   32|\n",
      "|All-New Amazon Fi...|   27|\n",
      "|              Kindle|   20|\n",
      "|Amazon 5W USB Off...|   19|\n",
      "|All-New Amazon Fi...|   18|\n",
      "|Replacement Remot...|   17|\n",
      "|Echo Dot (2nd Gen...|   13|\n",
      "|All-New Amazon Ki...|   13|\n",
      "|Moshi Anti-Glare ...|   12|\n",
      "|Amazon Kindle Oas...|   12|\n",
      "|Alexa Voice Remot...|   12|\n",
      "+--------------------+-----+\n",
      "only showing top 20 rows\n",
      "\n"
     ]
    }
   ],
   "source": [
    "df2 = df1.groupBy(\"name\").count().sort(\"count\",ascending = False)\n",
    "df2.show()"
   ]
  },
  {
   "cell_type": "markdown",
   "metadata": {},
   "source": [
    "### Question 5."
   ]
  },
  {
   "cell_type": "code",
   "execution_count": 16,
   "metadata": {},
   "outputs": [
    {
     "name": "stdout",
     "output_type": "stream",
     "text": [
      "+-------------------+-----+\n",
      "|           username|count|\n",
      "+-------------------+-----+\n",
      "|          A. Younan|   59|\n",
      "|     William Hardin|   58|\n",
      "|             Andrew|   43|\n",
      "|          Victor L.|   30|\n",
      "|                 NF|   29|\n",
      "|            Mike W.|   29|\n",
      "|      Earthling1984|   28|\n",
      "|    Amazon Reviewer|   27|\n",
      "|              Mandy|   26|\n",
      "|    Amazon Customer|   22|\n",
      "|             Dallas|   20|\n",
      "|   Gregory P. Baker|   19|\n",
      "|  Michael Gallagher|   17|\n",
      "|         B. Tarbuck|   16|\n",
      "|        J. Chambers|   13|\n",
      "|           D. Miyao|   10|\n",
      "|              MarkM|   10|\n",
      "|\"Things I Love Like|    9|\n",
      "|     Judy Schechter|    8|\n",
      "|              JJCEO|    7|\n",
      "+-------------------+-----+\n",
      "only showing top 20 rows\n",
      "\n"
     ]
    }
   ],
   "source": [
    "df3 = df1.groupBy(\"username\").count().sort(\"count\",ascending = False)\n",
    "df3.show()"
   ]
  },
  {
   "cell_type": "code",
   "execution_count": 17,
   "metadata": {},
   "outputs": [
    {
     "data": {
      "text/plain": [
       "62"
      ]
     },
     "execution_count": 17,
     "metadata": {},
     "output_type": "execute_result"
    }
   ],
   "source": [
    "df1.select('name').distinct().count()"
   ]
  },
  {
   "cell_type": "code",
   "execution_count": 18,
   "metadata": {
    "collapsed": true
   },
   "outputs": [
    {
     "name": "stdout",
     "output_type": "stream",
     "text": [
      "+----------------+--------------------+---------------------+-----------------------+-----------------------------------------------+-------------------------------------------------------+-------------------------------------------------+----------------------------------------------------+--------------------------------------+----------------------------------------------------------------------+-------------------------------------------------------------------------+----------------------------------+--------------------------------+-------------------------------------+-----------------------------------+-----------------------------------------------------------------------------------------+-------------------+--------------------------------------------------------------------------+------------------------------------------------------------------------+-------------------------------------------------------------------------+---------------------------------------------------------------------------+-----------------------------------------------------------------------------+---------------------------------------------------------------------------+--------------+------------------------------+---------------------------------------------------------+----------------------------------------------------------+-------------------------+-----------------------------------------------------+-----------------------------+------------------------------+--------------------------------+----------------------------------+------------------------------+----------------------------------------------------------------+-------------------------------------------------------+---------------------------------------+-------------------------------------+---------------------------------------------+--------------------------------------------------------+----------------------------------------------------------------+---------------------------------+-----------------+----------------------------+----------------+----------------+----------------+---------------------------+-------------------+------------------------+----------------------+------+-----------------------+---------------+----------------------------------------------------------+------------------------------------------------+-----------------+--------------------+----------------------------------+----------------------+------------------------------------------------------+--------------------------------------------------------------+-------------------------------------------+\n",
      "|   username_name|\"Kindle Fire HD 7\"\"\"|\"Kindle Fire HDX 7\"\"\"|\"Kindle Fire HDX 8.9\"\"\"|Alexa Voice Remote for Amazon Echo and Echo Dot|Alexa Voice Remote for Amazon Fire TV and Fire TV Stick|All-New Amazon Fire 7 Tablet Case (7th Generation|All-New Amazon Fire HD 8 Tablet Case (7th Generation|All-New Amazon Fire TV Game Controller|All-New Amazon Kid-Proof Case for Amazon Fire 7 Tablet (7th Generation|All-New Amazon Kid-Proof Case for Amazon Fire HD 8 Tablet (7th Generation|All-New Fire 7 Kids Edition Tablet|All-New Fire 7 Tablet with Alexa|All-New Fire HD 8 Kids Edition Tablet|All-New Fire HD 8 Tablet with Alexa|Amazon 5W USB Official OEM Charger and Power Adapter for Fire Tablets and Kindle eReaders|Amazon Echo - Black|Amazon Echo Dot Case (fits Echo Dot 2nd Generation only) - Charcoal Fabric|Amazon Echo Dot Case (fits Echo Dot 2nd Generation only) - Indigo Fabric|Amazon Echo Dot Case (fits Echo Dot 2nd Generation only) - Merlot Leather|Amazon Echo Dot Case (fits Echo Dot 2nd Generation only) - Midnight Leather|Amazon Echo Dot Case (fits Echo Dot 2nd Generation only) - Saddle Tan Leather|Amazon Echo Dot Case (fits Echo Dot 2nd Generation only) - Sandstone Fabric|Amazon Fire TV|Amazon Fire TV Game Controller|Amazon Kindle Oasis Premium Leather Battery Cover - Black|Amazon Kindle Oasis Premium Leather Battery Cover - Walnut|Amazon Premium Headphones|Amazon Tap - Alexa-Enabled Portable Bluetooth Speaker|Amazon Tap Sling Cover - Blue|Amazon Tap Sling Cover - Green|Amazon Tap Sling Cover - Magenta|Amazon Tap Sling Cover - Tangerine|Amazon Tap Sling Cover - White|Certified Refurbished Amazon Fire TV (Previous Generation - 1st)|Certified Refurbished Echo Dot (2nd Generation) - Black|Certified Refurbished Fire HD 10 Tablet|Certified Refurbished Kindle E-reader|Certified Refurbished Kindle E-reader - Black|Certified Refurbished Kindle Paperwhite E-reader - Black|Certified Refurbished Kindle Voyage E-reader with Special Offers|Echo Dot (2nd Generation) - Black|Echo Show - Black|Fire HD 10 Tablet with Alexa|Fire HD 6 Tablet|Fire HD 7 Tablet|Fire HD 8 Tablet|Fire HD 8 Tablet with Alexa|Fire HDX 8.9 Tablet|Fire Kids Edition Tablet|Fire Tablet with Alexa|Kindle|Kindle E-reader - Black|Kindle Keyboard|Kindle Oasis E-reader with Leather Charging Cover - Walnut|Kindle Oasis with Leather Charging Cover - Black|Kindle Paperwhite|Kindle Paperwhite 3G|Kindle Paperwhite E-reader - Black|Kindle Voyage E-reader|Kindle for Kids Bundle with the latest Kindle E-reader|Moshi Anti-Glare No Bubble Screen Protector for the Fire Phone|Replacement Remote for Amazon Fire TV Stick|\n",
      "+----------------+--------------------+---------------------+-----------------------+-----------------------------------------------+-------------------------------------------------------+-------------------------------------------------+----------------------------------------------------+--------------------------------------+----------------------------------------------------------------------+-------------------------------------------------------------------------+----------------------------------+--------------------------------+-------------------------------------+-----------------------------------+-----------------------------------------------------------------------------------------+-------------------+--------------------------------------------------------------------------+------------------------------------------------------------------------+-------------------------------------------------------------------------+---------------------------------------------------------------------------+-----------------------------------------------------------------------------+---------------------------------------------------------------------------+--------------+------------------------------+---------------------------------------------------------+----------------------------------------------------------+-------------------------+-----------------------------------------------------+-----------------------------+------------------------------+--------------------------------+----------------------------------+------------------------------+----------------------------------------------------------------+-------------------------------------------------------+---------------------------------------+-------------------------------------+---------------------------------------------+--------------------------------------------------------+----------------------------------------------------------------+---------------------------------+-----------------+----------------------------+----------------+----------------+----------------+---------------------------+-------------------+------------------------+----------------------+------+-----------------------+---------------+----------------------------------------------------------+------------------------------------------------+-----------------+--------------------+----------------------------------+----------------------+------------------------------------------------------+--------------------------------------------------------------+-------------------------------------------+\n",
      "|          DWOdom|                   0|                    0|                      0|                                              0|                                                      0|                                                0|                                                   0|                                     0|                                                                     0|                                                                        0|                                 0|                               0|                                    0|                                  0|                                                                                        0|                  0|                                                                         0|                                                                       0|                                                                        0|                                                                          0|                                                                            0|                                                                          0|             0|                             0|                                                        0|                                                         0|                        0|                                                    1|                            0|                             0|                               0|                                 0|                             0|                                                               0|                                                      0|                                      0|                                    0|                                            0|                                                       0|                                                               0|                                0|                0|                           0|               0|               0|               0|                          0|                  0|                       0|                     0|     0|                      0|              0|                                                         0|                                               0|                0|                   0|                                 0|                     0|                                                     0|                                                             0|                                          0|\n",
      "|              CV|                   0|                    0|                      0|                                              0|                                                      0|                                                0|                                                   0|                                     0|                                                                     0|                                                                        0|                                 0|                               0|                                    0|                                  0|                                                                                        0|                  0|                                                                         0|                                                                       0|                                                                        0|                                                                          0|                                                                            0|                                                                          0|             1|                             0|                                                        0|                                                         0|                        0|                                                    0|                            0|                             0|                               0|                                 0|                             0|                                                               0|                                                      0|                                      0|                                    0|                                            0|                                                       0|                                                               0|                                0|                0|                           0|               0|               0|               0|                          0|                  0|                       0|                     0|     0|                      0|              0|                                                         0|                                               0|                0|                   0|                                 0|                     0|                                                     0|                                                             0|                                          0|\n",
      "|          TerriD|                   0|                    0|                      0|                                              0|                                                      0|                                                0|                                                   0|                                     0|                                                                     0|                                                                        0|                                 0|                               0|                                    0|                                  0|                                                                                        0|                  0|                                                                         0|                                                                       0|                                                                        0|                                                                          0|                                                                            0|                                                                          0|             0|                             0|                                                        0|                                                         0|                        0|                                                    1|                            0|                             0|                               0|                                 0|                             0|                                                               0|                                                      0|                                      0|                                    0|                                            0|                                                       0|                                                               0|                                0|                0|                           0|               0|               0|               0|                          0|                  0|                       0|                     0|     0|                      0|              0|                                                         0|                                               0|                0|                   0|                                 0|                     0|                                                     0|                                                             0|                                          0|\n",
      "|  G. Bruce White|                   0|                    0|                      0|                                              0|                                                      0|                                                0|                                                   0|                                     0|                                                                     0|                                                                        0|                                 0|                               0|                                    0|                                  0|                                                                                        1|                  0|                                                                         0|                                                                       0|                                                                        0|                                                                          0|                                                                            0|                                                                          0|             0|                             0|                                                        0|                                                         0|                        0|                                                    0|                            0|                             0|                               0|                                 0|                             0|                                                               0|                                                      0|                                      0|                                    0|                                            0|                                                       0|                                                               0|                                0|                0|                           0|               0|               0|               0|                          0|                  0|                       0|                     0|     0|                      0|              0|                                                         0|                                               0|                0|                   0|                                 0|                     0|                                                     0|                                                             0|                                          0|\n",
      "|Javier Gutierrez|                   0|                    0|                      0|                                              0|                                                      0|                                                0|                                                   0|                                     0|                                                                     0|                                                                        0|                                 0|                               0|                                    0|                                  0|                                                                                        0|                  0|                                                                         0|                                                                       0|                                                                        0|                                                                          0|                                                                            0|                                                                          0|             0|                             0|                                                        0|                                                         0|                        0|                                                    0|                            0|                             0|                               0|                                 0|                             0|                                                               0|                                                      0|                                      0|                                    0|                                            0|                                                       0|                                                               0|                                0|                0|                           0|               0|               0|               0|                          0|                  0|                       0|                     0|     0|                      0|              0|                                                         0|                                               0|                0|                   0|                                 0|                     0|                                                     0|                                                             1|                                          0|\n",
      "|     Don Clayton|                   0|                    0|                      0|                                              0|                                                      0|                                                0|                                                   0|                                     0|                                                                     0|                                                                        0|                                 0|                               0|                                    0|                                  0|                                                                                        0|                  0|                                                                         0|                                                                       0|                                                                        0|                                                                          0|                                                                            0|                                                                          0|             1|                             0|                                                        0|                                                         0|                        0|                                                    0|                            0|                             0|                               0|                                 0|                             0|                                                               0|                                                      0|                                      0|                                    0|                                            0|                                                       0|                                                               0|                                0|                0|                           0|               0|               0|               0|                          0|                  0|                       0|                     0|     0|                      0|              0|                                                         0|                                               0|                0|                   0|                                 0|                     0|                                                     0|                                                             0|                                          0|\n",
      "|          Smitty|                   0|                    0|                      0|                                              0|                                                      0|                                                0|                                                   0|                                     0|                                                                     0|                                                                        0|                                 0|                               0|                                    0|                                  0|                                                                                        0|                  0|                                                                         0|                                                                       0|                                                                        0|                                                                          0|                                                                            0|                                                                          0|             0|                             0|                                                        0|                                                         0|                        0|                                                    1|                            0|                             0|                               0|                                 0|                             0|                                                               0|                                                      0|                                      0|                                    0|                                            0|                                                       0|                                                               0|                                0|                0|                           0|               0|               0|               0|                          0|                  0|                       0|                     0|     0|                      0|              0|                                                         0|                                               0|                0|                   0|                                 0|                     0|                                                     0|                                                             0|                                          0|\n",
      "|    Laurel Krahn|                   0|                    0|                      0|                                              0|                                                      0|                                                0|                                                   0|                                     0|                                                                     0|                                                                        0|                                 0|                               0|                                    0|                                  0|                                                                                        0|                  0|                                                                         0|                                                                       0|                                                                        0|                                                                          0|                                                                            0|                                                                          0|             0|                             0|                                                        0|                                                         0|                        0|                                                    0|                            0|                             0|                               0|                                 0|                             0|                                                               0|                                                      0|                                      0|                                    0|                                            0|                                                       0|                                                               0|                                0|                0|                           0|               0|               0|               0|                          0|                  0|                       0|                     0|     0|                      0|              0|                                                         0|                                               0|                0|                   0|                                 0|                     0|                                                     0|                                                             1|                                          0|\n",
      "|      CraigJ5974|                   0|                    0|                      0|                                              0|                                                      0|                                                0|                                                   0|                                     0|                                                                     0|                                                                        0|                                 0|                               0|                                    0|                                  0|                                                                                        0|                  0|                                                                         0|                                                                       0|                                                                        0|                                                                          0|                                                                            0|                                                                          0|             0|                             0|                                                        0|                                                         0|                        0|                                                    1|                            0|                             0|                               0|                                 0|                             0|                                                               0|                                                      0|                                      0|                                    0|                                            0|                                                       0|                                                               0|                                0|                0|                           0|               0|               0|               0|                          0|                  0|                       0|                     0|     0|                      0|              0|                                                         0|                                               0|                0|                   0|                                 0|                     0|                                                     0|                                                             0|                                          0|\n",
      "|         Brayden|                   0|                    0|                      0|                                              0|                                                      0|                                                0|                                                   0|                                     0|                                                                     0|                                                                        0|                                 0|                               0|                                    0|                                  0|                                                                                        0|                  0|                                                                         0|                                                                       0|                                                                        0|                                                                          0|                                                                            0|                                                                          0|             0|                             0|                                                        0|                                                         0|                        0|                                                    1|                            0|                             0|                               0|                                 0|                             0|                                                               0|                                                      0|                                      0|                                    0|                                            0|                                                       0|                                                               0|                                0|                0|                           0|               0|               0|               0|                          0|                  0|                       0|                     0|     0|                      0|              0|                                                         0|                                               0|                0|                   0|                                 0|                     0|                                                     0|                                                             0|                                          0|\n",
      "|         Smooze3|                   0|                    0|                      0|                                              0|                                                      0|                                                0|                                                   0|                                     0|                                                                     0|                                                                        0|                                 0|                               0|                                    0|                                  0|                                                                                        0|                  0|                                                                         0|                                                                       0|                                                                        0|                                                                          0|                                                                            0|                                                                          0|             0|                             0|                                                        0|                                                         0|                        0|                                                    1|                            0|                             0|                               0|                                 0|                             0|                                                               0|                                                      0|                                      0|                                    0|                                            0|                                                       0|                                                               0|                                0|                0|                           0|               0|               0|               0|                          0|                  0|                       0|                     0|     0|                      0|              0|                                                         0|                                               0|                0|                   0|                                 0|                     0|                                                     0|                                                             0|                                          0|\n",
      "|          Janfer|                   0|                    0|                      0|                                              0|                                                      0|                                                0|                                                   0|                                     0|                                                                     0|                                                                        0|                                 0|                               0|                                    0|                                  0|                                                                                        0|                  0|                                                                         0|                                                                       0|                                                                        0|                                                                          0|                                                                            0|                                                                          0|             0|                             0|                                                        0|                                                         0|                        0|                                                    1|                            0|                             0|                               0|                                 0|                             0|                                                               0|                                                      0|                                      0|                                    0|                                            0|                                                       0|                                                               0|                                0|                0|                           0|               0|               0|               0|                          0|                  0|                       0|                     0|     0|                      0|              0|                                                         0|                                               0|                0|                   0|                                 0|                     0|                                                     0|                                                             0|                                          0|\n",
      "|       MonLaRose|                   0|                    0|                      0|                                              0|                                                      0|                                                0|                                                   0|                                     0|                                                                     0|                                                                        0|                                 0|                               0|                                    0|                                  0|                                                                                        0|                  0|                                                                         0|                                                                       0|                                                                        0|                                                                          0|                                                                            0|                                                                          0|             0|                             0|                                                        0|                                                         0|                        0|                                                    1|                            0|                             0|                               0|                                 0|                             0|                                                               0|                                                      0|                                      0|                                    0|                                            0|                                                       0|                                                               0|                                0|                0|                           0|               0|               0|               0|                          0|                  0|                       0|                     0|     0|                      0|              0|                                                         0|                                               0|                0|                   0|                                 0|                     0|                                                     0|                                                             0|                                          0|\n",
      "|  Alexandr Petak|                   0|                    0|                      0|                                              0|                                                      0|                                                0|                                                   0|                                     0|                                                                     0|                                                                        0|                                 0|                               0|                                    0|                                  0|                                                                                        0|                  0|                                                                         0|                                                                       0|                                                                        0|                                                                          0|                                                                            0|                                                                          0|             0|                             0|                                                        0|                                                         0|                        0|                                                    0|                            0|                             0|                               0|                                 0|                             0|                                                               0|                                                      0|                                      0|                                    0|                                            0|                                                       0|                                                               0|                                0|                0|                           0|               0|               0|               0|                          0|                  0|                       0|                     0|     0|                      0|              1|                                                         0|                                               0|                0|                   0|                                 0|                     0|                                                     0|                                                             0|                                          0|\n",
      "|            Czer|                   0|                    0|                      0|                                              0|                                                      0|                                                0|                                                   0|                                     0|                                                                     0|                                                                        0|                                 0|                               0|                                    0|                                  0|                                                                                        0|                  0|                                                                         0|                                                                       0|                                                                        0|                                                                          0|                                                                            0|                                                                          0|             0|                             0|                                                        0|                                                         0|                        0|                                                    1|                            0|                             0|                               0|                                 0|                             0|                                                               0|                                                      0|                                      0|                                    0|                                            0|                                                       0|                                                               0|                                0|                0|                           0|               0|               0|               0|                          0|                  0|                       0|                     0|     0|                      0|              0|                                                         0|                                               0|                0|                   0|                                 0|                     0|                                                     0|                                                             0|                                          0|\n",
      "|       kmshirley|                   0|                    0|                      0|                                              0|                                                      0|                                                0|                                                   0|                                     0|                                                                     0|                                                                        0|                                 0|                               0|                                    0|                                  0|                                                                                        0|                  0|                                                                         0|                                                                       0|                                                                        0|                                                                          0|                                                                            0|                                                                          0|             0|                             0|                                                        0|                                                         0|                        0|                                                    1|                            0|                             0|                               0|                                 0|                             0|                                                               0|                                                      0|                                      0|                                    0|                                            0|                                                       0|                                                               0|                                0|                0|                           0|               0|               0|               0|                          0|                  0|                       0|                     0|     0|                      0|              0|                                                         0|                                               0|                0|                   0|                                 0|                     0|                                                     0|                                                             0|                                          0|\n",
      "|      D. Carlson|                   0|                    0|                      0|                                              0|                                                      0|                                                0|                                                   0|                                     0|                                                                     0|                                                                        0|                                 0|                               0|                                    0|                                  0|                                                                                        0|                  0|                                                                         0|                                                                       0|                                                                        0|                                                                          0|                                                                            0|                                                                          0|             0|                             0|                                                        0|                                                         0|                        0|                                                    0|                            0|                             0|                               0|                                 0|                             0|                                                               0|                                                      0|                                      0|                                    0|                                            0|                                                       0|                                                               0|                                0|                0|                           0|               0|               0|               0|                          0|                  0|                       0|                     0|     0|                      0|              0|                                                         0|                                               0|                5|                   0|                                 0|                     0|                                                     0|                                                             0|                                          0|\n",
      "|        Scottlyn|                   0|                    0|                      0|                                              0|                                                      0|                                                0|                                                   0|                                     0|                                                                     0|                                                                        0|                                 0|                               0|                                    0|                                  0|                                                                                        0|                  0|                                                                         0|                                                                       0|                                                                        0|                                                                          0|                                                                            0|                                                                          0|             0|                             0|                                                        0|                                                         0|                        0|                                                    1|                            0|                             0|                               0|                                 0|                             0|                                                               0|                                                      0|                                      0|                                    0|                                            0|                                                       0|                                                               0|                                0|                0|                           0|               0|               0|               0|                          0|                  0|                       0|                     0|     0|                      0|              0|                                                         0|                                               0|                0|                   0|                                 0|                     0|                                                     0|                                                             0|                                          0|\n",
      "|          Urduja|                   0|                    0|                      0|                                              0|                                                      0|                                                0|                                                   0|                                     0|                                                                     0|                                                                        0|                                 1|                               0|                                    0|                                  0|                                                                                        0|                  0|                                                                         0|                                                                       0|                                                                        0|                                                                          0|                                                                            0|                                                                          0|             0|                             0|                                                        0|                                                         0|                        0|                                                    0|                            0|                             0|                               0|                                 0|                             0|                                                               0|                                                      0|                                      0|                                    0|                                            0|                                                       0|                                                               0|                                0|                0|                           0|               0|               0|               0|                          0|                  0|                       0|                     0|     0|                      0|              0|                                                         0|                                               0|                0|                   0|                                 0|                     0|                                                     0|                                                             0|                                          0|\n",
      "|        Dpadilla|                   0|                    0|                      0|                                              0|                                                      0|                                                0|                                                   0|                                     0|                                                                     0|                                                                        0|                                 0|                               0|                                    0|                                  0|                                                                                        0|                  0|                                                                         0|                                                                       0|                                                                        0|                                                                          0|                                                                            0|                                                                          0|             0|                             0|                                                        0|                                                         0|                        0|                                                    1|                            0|                             0|                               0|                                 0|                             0|                                                               0|                                                      0|                                      0|                                    0|                                            0|                                                       0|                                                               0|                                0|                0|                           0|               0|               0|               0|                          0|                  0|                       0|                     0|     0|                      0|              0|                                                         0|                                               0|                0|                   0|                                 0|                     0|                                                     0|                                                             0|                                          0|\n",
      "+----------------+--------------------+---------------------+-----------------------+-----------------------------------------------+-------------------------------------------------------+-------------------------------------------------+----------------------------------------------------+--------------------------------------+----------------------------------------------------------------------+-------------------------------------------------------------------------+----------------------------------+--------------------------------+-------------------------------------+-----------------------------------+-----------------------------------------------------------------------------------------+-------------------+--------------------------------------------------------------------------+------------------------------------------------------------------------+-------------------------------------------------------------------------+---------------------------------------------------------------------------+-----------------------------------------------------------------------------+---------------------------------------------------------------------------+--------------+------------------------------+---------------------------------------------------------+----------------------------------------------------------+-------------------------+-----------------------------------------------------+-----------------------------+------------------------------+--------------------------------+----------------------------------+------------------------------+----------------------------------------------------------------+-------------------------------------------------------+---------------------------------------+-------------------------------------+---------------------------------------------+--------------------------------------------------------+----------------------------------------------------------------+---------------------------------+-----------------+----------------------------+----------------+----------------+----------------+---------------------------+-------------------+------------------------+----------------------+------+-----------------------+---------------+----------------------------------------------------------+------------------------------------------------+-----------------+--------------------+----------------------------------+----------------------+------------------------------------------------------+--------------------------------------------------------------+-------------------------------------------+\n",
      "only showing top 20 rows\n",
      "\n"
     ]
    }
   ],
   "source": [
    "df1.crosstab('username','name').show()"
   ]
  },
  {
   "cell_type": "code",
   "execution_count": 20,
   "metadata": {},
   "outputs": [
    {
     "name": "stdout",
     "output_type": "stream",
     "text": [
      "+-------------------+--------------------+-----+\n",
      "|           username|                name|count|\n",
      "+-------------------+--------------------+-----+\n",
      "|          A. Younan|Amazon Premium He...|   59|\n",
      "|             Andrew|Amazon Premium He...|   43|\n",
      "|          Victor L.|Amazon Premium He...|   30|\n",
      "|     William Hardin|    Fire HD 6 Tablet|   30|\n",
      "|            Mike W.|    Fire HD 6 Tablet|   29|\n",
      "|      Earthling1984|    Fire HD 6 Tablet|   28|\n",
      "|         B. Tarbuck|\"Kindle Fire HDX ...|   16|\n",
      "|     William Hardin|      Amazon Fire TV|   16|\n",
      "|              Mandy|      Amazon Fire TV|   16|\n",
      "|                 NF|\"Kindle Fire HDX ...|   15|\n",
      "|                 NF|\"Kindle Fire HD 7\"\"\"|   14|\n",
      "|    Amazon Reviewer|\"Kindle Fire HDX ...|   14|\n",
      "|    Amazon Reviewer|\"Kindle Fire HDX ...|   13|\n",
      "|             Dallas|      Amazon Fire TV|   12|\n",
      "|  Michael Gallagher|\"Kindle Fire HDX ...|   12|\n",
      "|     William Hardin|Certified Refurbi...|   12|\n",
      "|   Gregory P. Baker|      Amazon Fire TV|   11|\n",
      "|              Mandy|Certified Refurbi...|   10|\n",
      "|              MarkM|\"Kindle Fire HD 7\"\"\"|   10|\n",
      "|\"Things I Love Like|\"Kindle Fire HDX ...|    9|\n",
      "+-------------------+--------------------+-----+\n",
      "only showing top 20 rows\n",
      "\n"
     ]
    }
   ],
   "source": [
    "df4 = df1.groupBy(\"username\", \"name\").count().sort(\"count\",ascending=False)\n",
    "df4.show()"
   ]
  },
  {
   "cell_type": "code",
   "execution_count": 24,
   "metadata": {},
   "outputs": [
    {
     "name": "stdout",
     "output_type": "stream",
     "text": [
      "+--------------------+-----+\n",
      "|            username|count|\n",
      "+--------------------+-----+\n",
      "|     Amazon Customer|   16|\n",
      "|         J. Chambers|    8|\n",
      "|                 Bob|    7|\n",
      "|               JB 85|    6|\n",
      "|        Corey Clarke|    6|\n",
      "|            D. Miyao|    6|\n",
      "|                 A.C|    6|\n",
      "|           C. Morrow|    6|\n",
      "|                  dm|    6|\n",
      "|      Vincent Pompei|    6|\n",
      "|               Jbird|    5|\n",
      "|      Devin Stephens|    5|\n",
      "|   Michael Gallagher|    5|\n",
      "|   CHRISTOPHER JONES|    5|\n",
      "|          Desert Rat|    5|\n",
      "|Phil (not) in Mag...|    5|\n",
      "|                Ryan|    4|\n",
      "|              Rustic|    3|\n",
      "|          FreeSpirit|    3|\n",
      "|               JJCEO|    3|\n",
      "+--------------------+-----+\n",
      "only showing top 20 rows\n",
      "\n"
     ]
    }
   ],
   "source": [
    "df5 = df4.groupBy(\"username\").count().sort(\"count\",ascending=False)\n",
    "df5.show()"
   ]
  },
  {
   "cell_type": "markdown",
   "metadata": {},
   "source": [
    "### Question 6."
   ]
  },
  {
   "cell_type": "code",
   "execution_count": 45,
   "metadata": {},
   "outputs": [
    {
     "data": {
      "text/plain": [
       "[('Kindle Paperwhite', 'Cristina M'),\n",
       " ('Kindle Paperwhite', 'Ricky'),\n",
       " ('Kindle Paperwhite', 'Tedd Gardiner'),\n",
       " ('Kindle Paperwhite', 'Dougal'),\n",
       " ('Kindle Paperwhite', 'Miljan David Tanic')]"
      ]
     },
     "execution_count": 45,
     "metadata": {},
     "output_type": "execute_result"
    }
   ],
   "source": [
    "rdd5 = df1.select('name','username').rdd.map(tuple)\n",
    "rdd5.take(5)"
   ]
  },
  {
   "cell_type": "markdown",
   "metadata": {},
   "source": [
    "### Question 7."
   ]
  },
  {
   "cell_type": "code",
   "execution_count": 55,
   "metadata": {
    "scrolled": true
   },
   "outputs": [
    {
     "data": {
      "text/plain": [
       "[('Certified Refurbished Amazon Fire TV (Previous Generation - 1st)', 38),\n",
       " ('Amazon Tap Sling Cover - Tangerine', 3),\n",
       " ('\"Kindle Fire HDX 8.9\"\"\"', 43),\n",
       " ('Amazon Echo Dot Case (fits Echo Dot 2nd Generation only) - Sandstone Fabric',\n",
       "  8),\n",
       " ('All-New Amazon Fire TV Game Controller', 7),\n",
       " ('Fire HD 7 Tablet', 4),\n",
       " ('Certified Refurbished Kindle E-reader', 6),\n",
       " ('Kindle Paperwhite E-reader - Black', 6),\n",
       " ('Echo Show - Black', 7),\n",
       " ('Certified Refurbished Kindle E-reader - Black', 7),\n",
       " ('Kindle Voyage E-reader', 3),\n",
       " ('Fire HDX 8.9 Tablet', 3),\n",
       " ('Kindle E-reader - Black', 6),\n",
       " ('Amazon Fire TV', 166),\n",
       " ('All-New Amazon Fire HD 8 Tablet Case (7th Generation', 18),\n",
       " ('All-New Amazon Kid-Proof Case for Amazon Fire 7 Tablet (7th Generation',\n",
       "  13),\n",
       " ('Fire HD 6 Tablet', 87),\n",
       " ('All-New Fire HD 8 Kids Edition Tablet', 4),\n",
       " ('All-New Fire 7 Kids Edition Tablet', 5),\n",
       " ('\"Kindle Fire HD 7\"\"\"', 41),\n",
       " ('All-New Fire 7 Tablet with Alexa', 4),\n",
       " ('Echo Dot (2nd Generation) - Black', 13),\n",
       " ('Amazon Echo - Black', 9),\n",
       " ('\"Kindle Fire HDX 7\"\"\"', 53),\n",
       " ('Moshi Anti-Glare No Bubble Screen Protector for the Fire Phone', 12),\n",
       " ('Amazon Kindle Oasis Premium Leather Battery Cover - Walnut', 12),\n",
       " ('Amazon Premium Headphones', 133),\n",
       " ('Alexa Voice Remote for Amazon Fire TV and Fire TV Stick', 12),\n",
       " ('Kindle Paperwhite', 39),\n",
       " ('Kindle Keyboard', 32),\n",
       " ('Amazon Echo Dot Case (fits Echo Dot 2nd Generation only) - Indigo Fabric',\n",
       "  10),\n",
       " ('Amazon Echo Dot Case (fits Echo Dot 2nd Generation only) - Saddle Tan Leather',\n",
       "  10),\n",
       " ('Amazon Tap Sling Cover - Blue', 3),\n",
       " ('Amazon Fire TV Game Controller', 11),\n",
       " ('Amazon Tap Sling Cover - White', 3),\n",
       " ('Amazon Tap Sling Cover - Magenta', 3),\n",
       " ('Amazon Tap Sling Cover - Green', 3),\n",
       " ('Kindle Paperwhite 3G', 3),\n",
       " ('Fire HD 10 Tablet with Alexa', 8),\n",
       " ('Amazon Echo Dot Case (fits Echo Dot 2nd Generation only) - Merlot Leather',\n",
       "  8),\n",
       " ('Fire Kids Edition Tablet', 3),\n",
       " ('Certified Refurbished Fire HD 10 Tablet', 8),\n",
       " ('Certified Refurbished Kindle Paperwhite E-reader - Black', 3),\n",
       " ('Kindle Oasis with Leather Charging Cover - Black', 3),\n",
       " ('Kindle Oasis E-reader with Leather Charging Cover - Walnut', 4),\n",
       " ('Certified Refurbished Kindle Voyage E-reader with Special Offers', 3),\n",
       " ('Certified Refurbished Echo Dot (2nd Generation) - Black', 6),\n",
       " ('Amazon 5W USB Official OEM Charger and Power Adapter for Fire Tablets and Kindle eReaders',\n",
       "  19),\n",
       " ('All-New Amazon Fire 7 Tablet Case (7th Generation', 27),\n",
       " ('Kindle', 20),\n",
       " ('Fire HD 8 Tablet', 3),\n",
       " ('All-New Fire HD 8 Tablet with Alexa', 5),\n",
       " ('Amazon Echo Dot Case (fits Echo Dot 2nd Generation only) - Midnight Leather',\n",
       "  10),\n",
       " ('All-New Amazon Kid-Proof Case for Amazon Fire HD 8 Tablet (7th Generation',\n",
       "  12),\n",
       " ('Fire HD 8 Tablet with Alexa', 3),\n",
       " ('Kindle for Kids Bundle with the latest Kindle E-reader', 6),\n",
       " ('Amazon Echo Dot Case (fits Echo Dot 2nd Generation only) - Charcoal Fabric',\n",
       "  10),\n",
       " ('Fire Tablet with Alexa', 3),\n",
       " ('Amazon Tap - Alexa-Enabled Portable Bluetooth Speaker', 542),\n",
       " ('Alexa Voice Remote for Amazon Echo and Echo Dot', 7),\n",
       " ('Amazon Kindle Oasis Premium Leather Battery Cover - Black', 10),\n",
       " ('Replacement Remote for Amazon Fire TV Stick', 17)]"
      ]
     },
     "execution_count": 55,
     "metadata": {},
     "output_type": "execute_result"
    }
   ],
   "source": [
    "rdd6 = rdd5.map(lambda n:  (n[0], int(1))).reduceByKey(lambda v1,v2: v1 + v2)\n",
    "rdd6.collect()"
   ]
  },
  {
   "cell_type": "code",
   "execution_count": 58,
   "metadata": {},
   "outputs": [
    {
     "data": {
      "text/plain": [
       "[('Amazon Tap - Alexa-Enabled Portable Bluetooth Speaker', 542),\n",
       " ('Amazon Fire TV', 166),\n",
       " ('Amazon Premium Headphones', 133),\n",
       " ('Fire HD 6 Tablet', 87),\n",
       " ('\"Kindle Fire HDX 7\"\"\"', 53),\n",
       " ('\"Kindle Fire HDX 8.9\"\"\"', 43),\n",
       " ('\"Kindle Fire HD 7\"\"\"', 41),\n",
       " ('Kindle Paperwhite', 39),\n",
       " ('Certified Refurbished Amazon Fire TV (Previous Generation - 1st)', 38),\n",
       " ('Kindle Keyboard', 32),\n",
       " ('All-New Amazon Fire 7 Tablet Case (7th Generation', 27),\n",
       " ('Kindle', 20),\n",
       " ('Amazon 5W USB Official OEM Charger and Power Adapter for Fire Tablets and Kindle eReaders',\n",
       "  19),\n",
       " ('All-New Amazon Fire HD 8 Tablet Case (7th Generation', 18),\n",
       " ('Replacement Remote for Amazon Fire TV Stick', 17),\n",
       " ('All-New Amazon Kid-Proof Case for Amazon Fire 7 Tablet (7th Generation',\n",
       "  13),\n",
       " ('Echo Dot (2nd Generation) - Black', 13),\n",
       " ('Moshi Anti-Glare No Bubble Screen Protector for the Fire Phone', 12),\n",
       " ('Amazon Kindle Oasis Premium Leather Battery Cover - Walnut', 12),\n",
       " ('Alexa Voice Remote for Amazon Fire TV and Fire TV Stick', 12)]"
      ]
     },
     "execution_count": 58,
     "metadata": {},
     "output_type": "execute_result"
    }
   ],
   "source": [
    "rdd6.sortBy(lambda x: x[1], False).take(20)"
   ]
  },
  {
   "cell_type": "markdown",
   "metadata": {},
   "source": [
    "### Question 8."
   ]
  },
  {
   "cell_type": "code",
   "execution_count": 59,
   "metadata": {},
   "outputs": [
    {
     "data": {
      "text/plain": [
       "[('Cristina M', 'Kindle Paperwhite'),\n",
       " ('Ricky', 'Kindle Paperwhite'),\n",
       " ('Tedd Gardiner', 'Kindle Paperwhite'),\n",
       " ('Dougal', 'Kindle Paperwhite'),\n",
       " ('Miljan David Tanic', 'Kindle Paperwhite')]"
      ]
     },
     "execution_count": 59,
     "metadata": {},
     "output_type": "execute_result"
    }
   ],
   "source": [
    "rdd7 = df1.select('username','name').rdd.map(tuple)\n",
    "rdd7.take(5)"
   ]
  },
  {
   "cell_type": "markdown",
   "metadata": {},
   "source": [
    "### Question 9."
   ]
  },
  {
   "cell_type": "code",
   "execution_count": 159,
   "metadata": {},
   "outputs": [
    {
     "data": {
      "text/plain": [
       "[(('Dougal', 'Kindle Paperwhite'), 1),\n",
       " (('Miljan David Tanic', 'Kindle Paperwhite'), 1),\n",
       " (('Kelvin Law', 'Kindle Paperwhite'), 1),\n",
       " (('Miguel Martinez', 'Kindle Paperwhite'), 1),\n",
       " (('Magnus Brattemark', 'Kindle Paperwhite'), 1)]"
      ]
     },
     "execution_count": 159,
     "metadata": {},
     "output_type": "execute_result"
    }
   ],
   "source": [
    "rdd8 = rdd7.map(lambda n:  (n, 1)).reduceByKey(lambda v1,v2: v1 + v2)\n",
    "rdd8.take(5)"
   ]
  },
  {
   "cell_type": "code",
   "execution_count": 164,
   "metadata": {},
   "outputs": [
    {
     "data": {
      "text/plain": [
       "[('Dougal', ('Kindle Paperwhite', 1), 1),\n",
       " ('Miljan David Tanic', ('Kindle Paperwhite', 1), 1),\n",
       " ('Kelvin Law', ('Kindle Paperwhite', 1), 1),\n",
       " ('Miguel Martinez', ('Kindle Paperwhite', 1), 1),\n",
       " ('Magnus Brattemark', ('Kindle Paperwhite', 1), 1)]"
      ]
     },
     "execution_count": 164,
     "metadata": {},
     "output_type": "execute_result"
    }
   ],
   "source": [
    "rdd9 = rdd8.map(lambda n:  (n[0][0],(n[0][1],n[1]),n[1]))\n",
    "rdd9.take(5)"
   ]
  },
  {
   "cell_type": "code",
   "execution_count": 171,
   "metadata": {},
   "outputs": [
    {
     "data": {
      "text/plain": [
       "[('Gregory P. Baker', 19),\n",
       " ('William Hardin', 58),\n",
       " ('Jbird', 5),\n",
       " ('CHRISTOPHER JONES', 5),\n",
       " ('B. Tarbuck', 16)]"
      ]
     },
     "execution_count": 171,
     "metadata": {},
     "output_type": "execute_result"
    }
   ],
   "source": [
    "rdd10 = rdd9.map(lambda n:  (n[0],n[2])).reduceByKey(lambda x,y: x+y)\n",
    "rdd10.take(5)"
   ]
  },
  {
   "cell_type": "code",
   "execution_count": 172,
   "metadata": {},
   "outputs": [
    {
     "data": {
      "text/plain": [
       "[('Gregory P. Baker',\n",
       "  ('Certified Refurbished Amazon Fire TV (Previous Generation - 1st)',\n",
       "   8,\n",
       "   'Amazon Fire TV',\n",
       "   11)),\n",
       " ('William Hardin',\n",
       "  ('Certified Refurbished Amazon Fire TV (Previous Generation - 1st)',\n",
       "   12,\n",
       "   'Amazon Fire TV',\n",
       "   16,\n",
       "   'Fire HD 6 Tablet',\n",
       "   30)),\n",
       " ('Jbird',\n",
       "  ('Amazon Tap Sling Cover - Tangerine',\n",
       "   1,\n",
       "   'Amazon Tap Sling Cover - Blue',\n",
       "   1,\n",
       "   'Amazon Tap Sling Cover - White',\n",
       "   1,\n",
       "   'Amazon Tap Sling Cover - Magenta',\n",
       "   1,\n",
       "   'Amazon Tap Sling Cover - Green',\n",
       "   1)),\n",
       " ('CHRISTOPHER JONES',\n",
       "  ('Amazon Tap Sling Cover - Tangerine',\n",
       "   1,\n",
       "   'Amazon Tap Sling Cover - Blue',\n",
       "   1,\n",
       "   'Amazon Tap Sling Cover - White',\n",
       "   1,\n",
       "   'Amazon Tap Sling Cover - Magenta',\n",
       "   1,\n",
       "   'Amazon Tap Sling Cover - Green',\n",
       "   1)),\n",
       " ('B. Tarbuck', ('\"Kindle Fire HDX 8.9\"\"\"', 16))]"
      ]
     },
     "execution_count": 172,
     "metadata": {},
     "output_type": "execute_result"
    }
   ],
   "source": [
    "rdd11 = rdd9.map(lambda n:  (n[0],n[1])).reduceByKey(lambda x,y: x+y)\n",
    "rdd11.take(5)"
   ]
  },
  {
   "cell_type": "code",
   "execution_count": 177,
   "metadata": {},
   "outputs": [
    {
     "data": {
      "text/plain": [
       "[('Gregory P. Baker',\n",
       "  (('Certified Refurbished Amazon Fire TV (Previous Generation - 1st)',\n",
       "    8,\n",
       "    'Amazon Fire TV',\n",
       "    11),\n",
       "   19)),\n",
       " ('William Hardin',\n",
       "  (('Certified Refurbished Amazon Fire TV (Previous Generation - 1st)',\n",
       "    12,\n",
       "    'Amazon Fire TV',\n",
       "    16,\n",
       "    'Fire HD 6 Tablet',\n",
       "    30),\n",
       "   58)),\n",
       " ('Jbird',\n",
       "  (('Amazon Tap Sling Cover - Tangerine',\n",
       "    1,\n",
       "    'Amazon Tap Sling Cover - Blue',\n",
       "    1,\n",
       "    'Amazon Tap Sling Cover - White',\n",
       "    1,\n",
       "    'Amazon Tap Sling Cover - Magenta',\n",
       "    1,\n",
       "    'Amazon Tap Sling Cover - Green',\n",
       "    1),\n",
       "   5)),\n",
       " ('CHRISTOPHER JONES',\n",
       "  (('Amazon Tap Sling Cover - Tangerine',\n",
       "    1,\n",
       "    'Amazon Tap Sling Cover - Blue',\n",
       "    1,\n",
       "    'Amazon Tap Sling Cover - White',\n",
       "    1,\n",
       "    'Amazon Tap Sling Cover - Magenta',\n",
       "    1,\n",
       "    'Amazon Tap Sling Cover - Green',\n",
       "    1),\n",
       "   5)),\n",
       " ('B. Tarbuck', (('\"Kindle Fire HDX 8.9\"\"\"', 16), 16))]"
      ]
     },
     "execution_count": 177,
     "metadata": {},
     "output_type": "execute_result"
    }
   ],
   "source": [
    "rdd12 = rdd11.join(rdd10)\n",
    "rdd12.take(5)"
   ]
  },
  {
   "cell_type": "code",
   "execution_count": 176,
   "metadata": {},
   "outputs": [
    {
     "data": {
      "text/plain": [
       "[('A. Younan', (('Amazon Premium Headphones', 59), 59)),\n",
       " ('William Hardin',\n",
       "  (('Certified Refurbished Amazon Fire TV (Previous Generation - 1st)',\n",
       "    12,\n",
       "    'Amazon Fire TV',\n",
       "    16,\n",
       "    'Fire HD 6 Tablet',\n",
       "    30),\n",
       "   58)),\n",
       " ('Andrew', (('Amazon Premium Headphones', 43), 43)),\n",
       " ('Victor L.', (('Amazon Premium Headphones', 30), 30)),\n",
       " ('NF', (('\"Kindle Fire HD 7\"\"\"', 14, '\"Kindle Fire HDX 7\"\"\"', 15), 29)),\n",
       " ('Mike W.', (('Fire HD 6 Tablet', 29), 29)),\n",
       " ('Earthling1984', (('Fire HD 6 Tablet', 28), 28)),\n",
       " ('Amazon Reviewer',\n",
       "  (('\"Kindle Fire HDX 8.9\"\"\"', 14, '\"Kindle Fire HDX 7\"\"\"', 13), 27)),\n",
       " ('Mandy',\n",
       "  (('Certified Refurbished Amazon Fire TV (Previous Generation - 1st)',\n",
       "    10,\n",
       "    'Amazon Fire TV',\n",
       "    16),\n",
       "   26)),\n",
       " ('Amazon Customer',\n",
       "  (('\"Kindle Fire HDX 8.9\"\"\"',\n",
       "    1,\n",
       "    'Certified Refurbished Kindle E-reader - Black',\n",
       "    1,\n",
       "    'Amazon Fire TV',\n",
       "    3,\n",
       "    'All-New Amazon Kid-Proof Case for Amazon Fire 7 Tablet (7th Generation',\n",
       "    2,\n",
       "    'All-New Fire HD 8 Kids Edition Tablet',\n",
       "    1,\n",
       "    'All-New Fire 7 Kids Edition Tablet',\n",
       "    1,\n",
       "    '\"Kindle Fire HD 7\"\"\"',\n",
       "    1,\n",
       "    'Moshi Anti-Glare No Bubble Screen Protector for the Fire Phone',\n",
       "    1,\n",
       "    'Alexa Voice Remote for Amazon Fire TV and Fire TV Stick',\n",
       "    3,\n",
       "    'Certified Refurbished Fire HD 10 Tablet',\n",
       "    1,\n",
       "    'Certified Refurbished Echo Dot (2nd Generation) - Black',\n",
       "    1,\n",
       "    'Amazon 5W USB Official OEM Charger and Power Adapter for Fire Tablets and Kindle eReaders',\n",
       "    1,\n",
       "    'All-New Amazon Fire 7 Tablet Case (7th Generation',\n",
       "    2,\n",
       "    'All-New Fire HD 8 Tablet with Alexa',\n",
       "    1,\n",
       "    'Kindle for Kids Bundle with the latest Kindle E-reader',\n",
       "    1,\n",
       "    'Replacement Remote for Amazon Fire TV Stick',\n",
       "    1),\n",
       "   22)),\n",
       " ('Dallas',\n",
       "  (('Certified Refurbished Amazon Fire TV (Previous Generation - 1st)',\n",
       "    8,\n",
       "    'Amazon Fire TV',\n",
       "    12),\n",
       "   20)),\n",
       " ('Gregory P. Baker',\n",
       "  (('Certified Refurbished Amazon Fire TV (Previous Generation - 1st)',\n",
       "    8,\n",
       "    'Amazon Fire TV',\n",
       "    11),\n",
       "   19)),\n",
       " ('Michael Gallagher',\n",
       "  (('Fire HD 7 Tablet',\n",
       "    1,\n",
       "    'Certified Refurbished Kindle E-reader',\n",
       "    2,\n",
       "    'Fire HDX 8.9 Tablet',\n",
       "    1,\n",
       "    '\"Kindle Fire HDX 7\"\"\"',\n",
       "    12,\n",
       "    'Kindle',\n",
       "    1),\n",
       "   17)),\n",
       " ('B. Tarbuck', (('\"Kindle Fire HDX 8.9\"\"\"', 16), 16)),\n",
       " ('J. Chambers',\n",
       "  (('Kindle Paperwhite E-reader - Black',\n",
       "    2,\n",
       "    'Kindle Voyage E-reader',\n",
       "    1,\n",
       "    'All-New Amazon Fire HD 8 Tablet Case (7th Generation',\n",
       "    1,\n",
       "    'Kindle Paperwhite 3G',\n",
       "    1,\n",
       "    'Certified Refurbished Kindle Paperwhite E-reader - Black',\n",
       "    1,\n",
       "    'Kindle Oasis E-reader with Leather Charging Cover - Walnut',\n",
       "    1,\n",
       "    'Certified Refurbished Kindle Voyage E-reader with Special Offers',\n",
       "    1,\n",
       "    'Kindle Paperwhite',\n",
       "    5),\n",
       "   13)),\n",
       " ('D. Miyao',\n",
       "  (('Amazon Echo Dot Case (fits Echo Dot 2nd Generation only) - Indigo Fabric',\n",
       "    2,\n",
       "    'Amazon Echo Dot Case (fits Echo Dot 2nd Generation only) - Saddle Tan Leather',\n",
       "    2,\n",
       "    'Amazon Echo Dot Case (fits Echo Dot 2nd Generation only) - Merlot Leather',\n",
       "    1,\n",
       "    'Amazon Echo Dot Case (fits Echo Dot 2nd Generation only) - Midnight Leather',\n",
       "    2,\n",
       "    'Amazon Echo Dot Case (fits Echo Dot 2nd Generation only) - Charcoal Fabric',\n",
       "    2,\n",
       "    'Amazon Echo Dot Case (fits Echo Dot 2nd Generation only) - Sandstone Fabric',\n",
       "    1),\n",
       "   10)),\n",
       " ('MarkM', (('\"Kindle Fire HD 7\"\"\"', 10), 10)),\n",
       " ('\"Things I Love Like', (('\"Kindle Fire HDX 8.9\"\"\"', 9), 9)),\n",
       " ('Judy Schechter', (('\"Kindle Fire HD 7\"\"\"', 8), 8)),\n",
       " ('JJCEO',\n",
       "  (('Fire HD 7 Tablet',\n",
       "    1,\n",
       "    'All-New Amazon Fire HD 8 Tablet Case (7th Generation',\n",
       "    1,\n",
       "    'Kindle Paperwhite',\n",
       "    5),\n",
       "   7))]"
      ]
     },
     "execution_count": 176,
     "metadata": {},
     "output_type": "execute_result"
    }
   ],
   "source": [
    "rdd12.sortBy(lambda x: x[1][1], False).take(20)"
   ]
  },
  {
   "cell_type": "code",
   "execution_count": null,
   "metadata": {},
   "outputs": [],
   "source": []
  }
 ],
 "metadata": {
  "kernelspec": {
   "display_name": "Python 3",
   "language": "python",
   "name": "python3"
  },
  "language_info": {
   "codemirror_mode": {
    "name": "ipython",
    "version": 3
   },
   "file_extension": ".py",
   "mimetype": "text/x-python",
   "name": "python",
   "nbconvert_exporter": "python",
   "pygments_lexer": "ipython3",
   "version": "3.7.3"
  }
 },
 "nbformat": 4,
 "nbformat_minor": 2
}
